{
 "cells": [
  {
   "cell_type": "code",
   "execution_count": 3,
   "metadata": {},
   "outputs": [],
   "source": [
    "# open csv file\n",
    "import pandas as pd\n",
    "path = 'MDM_ESP_ENG.csv'\n",
    "df = pd.read_csv(path, keep_default_na=False)\n",
    "df.head()\n",
    "\n",
    "# generate json file with key value pairs with the 3rd and 1st columns of the csv file\n",
    "import json\n",
    "json_data = {}\n",
    "for i in range(len(df)):\n",
    "    # add a new key value pair to the json file or append an element to the existing key\n",
    "    if df.iloc[i,0] in json_data:\n",
    "        json_data[df.iloc[i,0]].update({df.iloc[i,1]:df.iloc[i,2]})\n",
    "    else:\n",
    "        json_data[df.iloc[i,0]] = {df.iloc[i,1]:df.iloc[i,2]}\n",
    "with open('es.json', 'w') as outfile:\n",
    "    json.dump(json_data, outfile)\n",
    "\n",
    "#print(json_data)"
   ]
  },
  {
   "cell_type": "code",
   "execution_count": 4,
   "metadata": {},
   "outputs": [],
   "source": [
    "# open csv file\n",
    "\n",
    "import pandas as pd\n",
    "path = 'MDM_ESP_ENG.csv'\n",
    "df = pd.read_csv(path, keep_default_na=False)\n",
    "df.head()\n",
    "\n",
    "# generate json file with key value pairs with the 3rd and 1st columns of the csv file\n",
    "import json\n",
    "json_data = {}\n",
    "for i in range(len(df)):\n",
    "    # add a new key value pair to the json file or append an element to the existing key\n",
    "    if df.iloc[i,0] in json_data:\n",
    "        json_data[df.iloc[i,0]].update({df.iloc[i,1]:df.iloc[i,3]})\n",
    "    else:\n",
    "        json_data[df.iloc[i,0]] = {df.iloc[i,1]:df.iloc[i,3]}\n",
    "with open('en.json', 'w') as outfile:\n",
    "    json.dump(json_data, outfile)\n",
    "\n",
    "#print(json_data)\n"
   ]
  },
  {
   "cell_type": "code",
   "execution_count": null,
   "metadata": {},
   "outputs": [],
   "source": []
  }
 ],
 "metadata": {
  "kernelspec": {
   "display_name": "base",
   "language": "python",
   "name": "python3"
  },
  "language_info": {
   "codemirror_mode": {
    "name": "ipython",
    "version": 3
   },
   "file_extension": ".py",
   "mimetype": "text/x-python",
   "name": "python",
   "nbconvert_exporter": "python",
   "pygments_lexer": "ipython3",
   "version": "3.10.11"
  },
  "orig_nbformat": 4
 },
 "nbformat": 4,
 "nbformat_minor": 2
}
